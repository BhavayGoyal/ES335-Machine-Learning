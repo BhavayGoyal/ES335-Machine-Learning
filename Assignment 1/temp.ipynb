{
 "cells": [
  {
   "cell_type": "code",
   "execution_count": 2,
   "id": "894b6abf",
   "metadata": {},
   "outputs": [
    {
     "name": "stderr",
     "output_type": "stream",
     "text": [
      "C:\\Users\\Bhavay Goyal\\AppData\\Local\\Temp\\ipykernel_29844\\2646631424.py:11: FutureWarning: The 'delim_whitespace' keyword in pd.read_csv is deprecated and will be removed in a future version. Use ``sep='\\s+'`` instead\n",
      "  data = pd.read_csv(url, delim_whitespace=True, header=None,\n"
     ]
    }
   ],
   "source": [
    "import pandas as pd\n",
    "import numpy as np\n",
    "import matplotlib.pyplot as plt\n",
    "from tree.base import DecisionTree\n",
    "from metrics import *\n",
    "\n",
    "np.random.seed(42)\n",
    "\n",
    "# Reading the data\n",
    "url = 'https://archive.ics.uci.edu/ml/machine-learning-databases/auto-mpg/auto-mpg.data'\n",
    "data = pd.read_csv(url, delim_whitespace=True, header=None,\n",
    "                 names=[\"mpg\", \"cylinders\", \"displacement\", \"horsepower\", \"weight\",\n",
    "                        \"acceleration\", \"model year\", \"origin\", \"car name\"])\n",
    "\n",
    "# Clean the above data by removing redundant columns and rows with junk values\n",
    "\n",
    "# Compare the performance of your model with the decision tree module from scikit learn"
   ]
  },
  {
   "cell_type": "code",
   "execution_count": 19,
   "id": "1657877d",
   "metadata": {},
   "outputs": [
    {
     "name": "stdout",
     "output_type": "stream",
     "text": [
      "398\n"
     ]
    }
   ],
   "source": [
    "# display(data.head(100))\n",
    "# data.describe()\n",
    "# data[data['horsepower'] == '?']\n",
    "# print(data[\"car name\"].nunique())\n",
    "print(len(data))"
   ]
  },
  {
   "cell_type": "code",
   "execution_count": null,
   "id": "3db40c16",
   "metadata": {},
   "outputs": [],
   "source": []
  }
 ],
 "metadata": {
  "kernelspec": {
   "display_name": "Python 3",
   "language": "python",
   "name": "python3"
  },
  "language_info": {
   "codemirror_mode": {
    "name": "ipython",
    "version": 3
   },
   "file_extension": ".py",
   "mimetype": "text/x-python",
   "name": "python",
   "nbconvert_exporter": "python",
   "pygments_lexer": "ipython3",
   "version": "3.12.10"
  }
 },
 "nbformat": 4,
 "nbformat_minor": 5
}
